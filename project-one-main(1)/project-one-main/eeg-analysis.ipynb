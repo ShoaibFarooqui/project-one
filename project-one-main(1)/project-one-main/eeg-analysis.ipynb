{
 "cells": [
  {
   "cell_type": "code",
   "execution_count": 157,
   "metadata": {},
   "outputs": [
    {
     "name": "stdout",
     "output_type": "stream",
     "text": [
      "Requirement already satisfied: datacompy in /Users/sho-abe/opt/anaconda3/envs/PythonData/lib/python3.7/site-packages (0.8.4)\n",
      "Requirement already satisfied: pandas<=1.5.2,>=0.25.0 in /Users/sho-abe/opt/anaconda3/envs/PythonData/lib/python3.7/site-packages (from datacompy) (1.3.5)\n",
      "Requirement already satisfied: numpy<=1.24.1,>=1.11.3 in /Users/sho-abe/opt/anaconda3/envs/PythonData/lib/python3.7/site-packages (from datacompy) (1.21.5)\n",
      "Requirement already satisfied: ordered-set<=4.1.0,>=4.0.2 in /Users/sho-abe/opt/anaconda3/envs/PythonData/lib/python3.7/site-packages (from datacompy) (4.1.0)\n",
      "Requirement already satisfied: python-dateutil>=2.7.3 in /Users/sho-abe/opt/anaconda3/envs/PythonData/lib/python3.7/site-packages (from pandas<=1.5.2,>=0.25.0->datacompy) (2.8.2)\n",
      "Requirement already satisfied: pytz>=2017.3 in /Users/sho-abe/opt/anaconda3/envs/PythonData/lib/python3.7/site-packages (from pandas<=1.5.2,>=0.25.0->datacompy) (2022.7)\n",
      "Requirement already satisfied: six>=1.5 in /Users/sho-abe/opt/anaconda3/envs/PythonData/lib/python3.7/site-packages (from python-dateutil>=2.7.3->pandas<=1.5.2,>=0.25.0->datacompy) (1.16.0)\n"
     ]
    }
   ],
   "source": [
    "! pip install datacompy"
   ]
  },
  {
   "cell_type": "code",
   "execution_count": 158,
   "metadata": {},
   "outputs": [],
   "source": [
    "import matplotlib.pyplot as plt\n",
    "import pandas as pd\n",
    "import os \n",
    "import numpy as np \n",
    "import datacompy\n",
    "import scipy.stats as st\n"
   ]
  },
  {
   "attachments": {},
   "cell_type": "markdown",
   "metadata": {},
   "source": [
    "#what frequency band is most pronunced in confused students vs non confused students?"
   ]
  },
  {
   "cell_type": "code",
   "execution_count": 159,
   "metadata": {},
   "outputs": [],
   "source": [
    "eeg_df = pd.read_csv(\"resources/EEG_data.csv\")\n",
    "eeg_demo_df = pd.read_csv(\"resources/demographic_info.csv\")"
   ]
  },
  {
   "cell_type": "code",
   "execution_count": 160,
   "metadata": {},
   "outputs": [
    {
     "data": {
      "text/plain": [
       "Index(['SubjectID', 'VideoID', 'Attention', 'Mediation', 'Raw', 'Delta',\n",
       "       'Theta', 'Alpha1', 'Alpha2', 'Beta1', 'Beta2', 'Gamma1', 'Gamma2',\n",
       "       'predefinedlabel', 'user-definedlabeln'],\n",
       "      dtype='object')"
      ]
     },
     "execution_count": 160,
     "metadata": {},
     "output_type": "execute_result"
    }
   ],
   "source": [
    "eeg_df.columns"
   ]
  },
  {
   "cell_type": "code",
   "execution_count": 161,
   "metadata": {},
   "outputs": [],
   "source": [
    "eeg_df = eeg_df.drop(eeg_df[eeg_df[\"SubjectID\"]==6].index, inplace=False)"
   ]
  },
  {
   "cell_type": "code",
   "execution_count": 162,
   "metadata": {},
   "outputs": [
    {
     "data": {
      "text/html": [
       "<div>\n",
       "<style scoped>\n",
       "    .dataframe tbody tr th:only-of-type {\n",
       "        vertical-align: middle;\n",
       "    }\n",
       "\n",
       "    .dataframe tbody tr th {\n",
       "        vertical-align: top;\n",
       "    }\n",
       "\n",
       "    .dataframe thead th {\n",
       "        text-align: right;\n",
       "    }\n",
       "</style>\n",
       "<table border=\"1\" class=\"dataframe\">\n",
       "  <thead>\n",
       "    <tr style=\"text-align: right;\">\n",
       "      <th></th>\n",
       "      <th>subject ID</th>\n",
       "      <th>age</th>\n",
       "      <th>ethnicity</th>\n",
       "      <th>gender</th>\n",
       "    </tr>\n",
       "  </thead>\n",
       "  <tbody>\n",
       "    <tr>\n",
       "      <th>0</th>\n",
       "      <td>0</td>\n",
       "      <td>25</td>\n",
       "      <td>Han Chinese</td>\n",
       "      <td>M</td>\n",
       "    </tr>\n",
       "    <tr>\n",
       "      <th>1</th>\n",
       "      <td>1</td>\n",
       "      <td>24</td>\n",
       "      <td>Han Chinese</td>\n",
       "      <td>M</td>\n",
       "    </tr>\n",
       "    <tr>\n",
       "      <th>2</th>\n",
       "      <td>2</td>\n",
       "      <td>31</td>\n",
       "      <td>English</td>\n",
       "      <td>M</td>\n",
       "    </tr>\n",
       "    <tr>\n",
       "      <th>3</th>\n",
       "      <td>3</td>\n",
       "      <td>28</td>\n",
       "      <td>Han Chinese</td>\n",
       "      <td>F</td>\n",
       "    </tr>\n",
       "    <tr>\n",
       "      <th>4</th>\n",
       "      <td>4</td>\n",
       "      <td>24</td>\n",
       "      <td>Bengali</td>\n",
       "      <td>M</td>\n",
       "    </tr>\n",
       "  </tbody>\n",
       "</table>\n",
       "</div>"
      ],
      "text/plain": [
       "   subject ID   age    ethnicity  gender\n",
       "0           0    25  Han Chinese       M\n",
       "1           1    24  Han Chinese       M\n",
       "2           2    31      English       M\n",
       "3           3    28  Han Chinese       F\n",
       "4           4    24      Bengali       M"
      ]
     },
     "execution_count": 162,
     "metadata": {},
     "output_type": "execute_result"
    }
   ],
   "source": [
    "eeg_demo_df.head()"
   ]
  },
  {
   "cell_type": "code",
   "execution_count": 163,
   "metadata": {},
   "outputs": [
    {
     "data": {
      "text/plain": [
       "Text(0, 0.5, 'Power via Spectral Analysis')"
      ]
     },
     "execution_count": 163,
     "metadata": {},
     "output_type": "execute_result"
    },
    {
     "data": {
      "image/png": "[encoded data removed]",
      "text/plain": [
       "<Figure size 640x480 with 1 Axes>"
      ]
     },
     "metadata": {},
     "output_type": "display_data"
    }
   ],
   "source": [
    "plt.bar(eeg_df[\"user-definedlabeln\"], eeg_df[\"Delta\"])\n",
    "plt.title(\"Total Delta Ouput between Groups\")\n",
    "plt.ylabel(\"Power via Spectral Analysis\")"
   ]
  },
  {
   "cell_type": "code",
   "execution_count": 164,
   "metadata": {},
   "outputs": [
    {
     "name": "stderr",
     "output_type": "stream",
     "text": [
      "/Users/sho-abe/opt/anaconda3/envs/PythonData/lib/python3.7/site-packages/ipykernel_launcher.py:3: UserWarning: Pandas doesn't allow columns to be created via a new attribute name - see https://pandas.pydata.org/pandas-docs/stable/indexing.html#attribute-access\n",
      "  This is separate from the ipykernel package so we can avoid doing imports until\n"
     ]
    },
    {
     "data": {
      "text/html": [
       "<div>\n",
       "<style scoped>\n",
       "    .dataframe tbody tr th:only-of-type {\n",
       "        vertical-align: middle;\n",
       "    }\n",
       "\n",
       "    .dataframe tbody tr th {\n",
       "        vertical-align: top;\n",
       "    }\n",
       "\n",
       "    .dataframe thead th {\n",
       "        text-align: right;\n",
       "    }\n",
       "</style>\n",
       "<table border=\"1\" class=\"dataframe\">\n",
       "  <thead>\n",
       "    <tr style=\"text-align: right;\">\n",
       "      <th></th>\n",
       "      <th>SubjectID</th>\n",
       "      <th>VideoID</th>\n",
       "      <th>Attention</th>\n",
       "      <th>Mediation</th>\n",
       "      <th>Raw</th>\n",
       "      <th>Delta</th>\n",
       "      <th>Theta</th>\n",
       "      <th>Alpha1</th>\n",
       "      <th>Alpha2</th>\n",
       "      <th>Beta1</th>\n",
       "      <th>Beta2</th>\n",
       "      <th>Gamma1</th>\n",
       "      <th>Gamma2</th>\n",
       "      <th>predefinedlabel</th>\n",
       "      <th>Confusion</th>\n",
       "    </tr>\n",
       "  </thead>\n",
       "  <tbody>\n",
       "    <tr>\n",
       "      <th>0</th>\n",
       "      <td>0.0</td>\n",
       "      <td>0.0</td>\n",
       "      <td>56.0</td>\n",
       "      <td>43.0</td>\n",
       "      <td>278.0</td>\n",
       "      <td>301963.0</td>\n",
       "      <td>90612.0</td>\n",
       "      <td>33735.0</td>\n",
       "      <td>23991.0</td>\n",
       "      <td>27946.0</td>\n",
       "      <td>45097.0</td>\n",
       "      <td>33228.0</td>\n",
       "      <td>8293.0</td>\n",
       "      <td>0.0</td>\n",
       "      <td>0.0</td>\n",
       "    </tr>\n",
       "    <tr>\n",
       "      <th>1</th>\n",
       "      <td>0.0</td>\n",
       "      <td>0.0</td>\n",
       "      <td>40.0</td>\n",
       "      <td>35.0</td>\n",
       "      <td>-50.0</td>\n",
       "      <td>73787.0</td>\n",
       "      <td>28083.0</td>\n",
       "      <td>1439.0</td>\n",
       "      <td>2240.0</td>\n",
       "      <td>2746.0</td>\n",
       "      <td>3687.0</td>\n",
       "      <td>5293.0</td>\n",
       "      <td>2740.0</td>\n",
       "      <td>0.0</td>\n",
       "      <td>0.0</td>\n",
       "    </tr>\n",
       "    <tr>\n",
       "      <th>2</th>\n",
       "      <td>0.0</td>\n",
       "      <td>0.0</td>\n",
       "      <td>47.0</td>\n",
       "      <td>48.0</td>\n",
       "      <td>101.0</td>\n",
       "      <td>758353.0</td>\n",
       "      <td>383745.0</td>\n",
       "      <td>201999.0</td>\n",
       "      <td>62107.0</td>\n",
       "      <td>36293.0</td>\n",
       "      <td>130536.0</td>\n",
       "      <td>57243.0</td>\n",
       "      <td>25354.0</td>\n",
       "      <td>0.0</td>\n",
       "      <td>0.0</td>\n",
       "    </tr>\n",
       "    <tr>\n",
       "      <th>3</th>\n",
       "      <td>0.0</td>\n",
       "      <td>0.0</td>\n",
       "      <td>47.0</td>\n",
       "      <td>57.0</td>\n",
       "      <td>-5.0</td>\n",
       "      <td>2012240.0</td>\n",
       "      <td>129350.0</td>\n",
       "      <td>61236.0</td>\n",
       "      <td>17084.0</td>\n",
       "      <td>11488.0</td>\n",
       "      <td>62462.0</td>\n",
       "      <td>49960.0</td>\n",
       "      <td>33932.0</td>\n",
       "      <td>0.0</td>\n",
       "      <td>0.0</td>\n",
       "    </tr>\n",
       "    <tr>\n",
       "      <th>4</th>\n",
       "      <td>0.0</td>\n",
       "      <td>0.0</td>\n",
       "      <td>44.0</td>\n",
       "      <td>53.0</td>\n",
       "      <td>-8.0</td>\n",
       "      <td>1005145.0</td>\n",
       "      <td>354328.0</td>\n",
       "      <td>37102.0</td>\n",
       "      <td>88881.0</td>\n",
       "      <td>45307.0</td>\n",
       "      <td>99603.0</td>\n",
       "      <td>44790.0</td>\n",
       "      <td>29749.0</td>\n",
       "      <td>0.0</td>\n",
       "      <td>0.0</td>\n",
       "    </tr>\n",
       "  </tbody>\n",
       "</table>\n",
       "</div>"
      ],
      "text/plain": [
       "   SubjectID  VideoID  Attention  Mediation    Raw      Delta     Theta  \\\n",
       "0        0.0      0.0       56.0       43.0  278.0   301963.0   90612.0   \n",
       "1        0.0      0.0       40.0       35.0  -50.0    73787.0   28083.0   \n",
       "2        0.0      0.0       47.0       48.0  101.0   758353.0  383745.0   \n",
       "3        0.0      0.0       47.0       57.0   -5.0  2012240.0  129350.0   \n",
       "4        0.0      0.0       44.0       53.0   -8.0  1005145.0  354328.0   \n",
       "\n",
       "     Alpha1   Alpha2    Beta1     Beta2   Gamma1   Gamma2  predefinedlabel  \\\n",
       "0   33735.0  23991.0  27946.0   45097.0  33228.0   8293.0              0.0   \n",
       "1    1439.0   2240.0   2746.0    3687.0   5293.0   2740.0              0.0   \n",
       "2  201999.0  62107.0  36293.0  130536.0  57243.0  25354.0              0.0   \n",
       "3   61236.0  17084.0  11488.0   62462.0  49960.0  33932.0              0.0   \n",
       "4   37102.0  88881.0  45307.0   99603.0  44790.0  29749.0              0.0   \n",
       "\n",
       "   Confusion  \n",
       "0        0.0  \n",
       "1        0.0  \n",
       "2        0.0  \n",
       "3        0.0  \n",
       "4        0.0  "
      ]
     },
     "execution_count": 164,
     "metadata": {},
     "output_type": "execute_result"
    }
   ],
   "source": [
    "#non confused\n",
    "non_eeg_df= eeg_df[eeg_df[\"user-definedlabeln\"] == 0]\n",
    "non_eeg_df.pd = pd.DataFrame(non_eeg_df)\n",
    "non_eeg_df.pd.rename(columns = {'user-definedlabeln':'Confusion'}, inplace = True)\n",
    "non_eeg_df.head()\n"
   ]
  },
  {
   "cell_type": "code",
   "execution_count": 165,
   "metadata": {},
   "outputs": [
    {
     "name": "stderr",
     "output_type": "stream",
     "text": [
      "/Users/sho-abe/opt/anaconda3/envs/PythonData/lib/python3.7/site-packages/ipykernel_launcher.py:3: UserWarning: Pandas doesn't allow columns to be created via a new attribute name - see https://pandas.pydata.org/pandas-docs/stable/indexing.html#attribute-access\n",
      "  This is separate from the ipykernel package so we can avoid doing imports until\n"
     ]
    },
    {
     "data": {
      "text/html": [
       "<div>\n",
       "<style scoped>\n",
       "    .dataframe tbody tr th:only-of-type {\n",
       "        vertical-align: middle;\n",
       "    }\n",
       "\n",
       "    .dataframe tbody tr th {\n",
       "        vertical-align: top;\n",
       "    }\n",
       "\n",
       "    .dataframe thead th {\n",
       "        text-align: right;\n",
       "    }\n",
       "</style>\n",
       "<table border=\"1\" class=\"dataframe\">\n",
       "  <thead>\n",
       "    <tr style=\"text-align: right;\">\n",
       "      <th></th>\n",
       "      <th>SubjectID</th>\n",
       "      <th>VideoID</th>\n",
       "      <th>Attention</th>\n",
       "      <th>Mediation</th>\n",
       "      <th>Raw</th>\n",
       "      <th>Delta</th>\n",
       "      <th>Theta</th>\n",
       "      <th>Alpha1</th>\n",
       "      <th>Alpha2</th>\n",
       "      <th>Beta1</th>\n",
       "      <th>Beta2</th>\n",
       "      <th>Gamma1</th>\n",
       "      <th>Gamma2</th>\n",
       "      <th>predefinedlabel</th>\n",
       "      <th>Confusion</th>\n",
       "    </tr>\n",
       "  </thead>\n",
       "  <tbody>\n",
       "    <tr>\n",
       "      <th>144</th>\n",
       "      <td>0.0</td>\n",
       "      <td>1.0</td>\n",
       "      <td>47.0</td>\n",
       "      <td>23.0</td>\n",
       "      <td>-58.0</td>\n",
       "      <td>587813.0</td>\n",
       "      <td>276755.0</td>\n",
       "      <td>47356.0</td>\n",
       "      <td>13611.0</td>\n",
       "      <td>18425.0</td>\n",
       "      <td>112767.0</td>\n",
       "      <td>55090.0</td>\n",
       "      <td>6949.0</td>\n",
       "      <td>0.0</td>\n",
       "      <td>1.0</td>\n",
       "    </tr>\n",
       "    <tr>\n",
       "      <th>145</th>\n",
       "      <td>0.0</td>\n",
       "      <td>1.0</td>\n",
       "      <td>48.0</td>\n",
       "      <td>37.0</td>\n",
       "      <td>18.0</td>\n",
       "      <td>264810.0</td>\n",
       "      <td>7319.0</td>\n",
       "      <td>1347.0</td>\n",
       "      <td>1468.0</td>\n",
       "      <td>1754.0</td>\n",
       "      <td>2469.0</td>\n",
       "      <td>2389.0</td>\n",
       "      <td>1271.0</td>\n",
       "      <td>0.0</td>\n",
       "      <td>1.0</td>\n",
       "    </tr>\n",
       "    <tr>\n",
       "      <th>146</th>\n",
       "      <td>0.0</td>\n",
       "      <td>1.0</td>\n",
       "      <td>56.0</td>\n",
       "      <td>44.0</td>\n",
       "      <td>84.0</td>\n",
       "      <td>1817666.0</td>\n",
       "      <td>259465.0</td>\n",
       "      <td>22213.0</td>\n",
       "      <td>71445.0</td>\n",
       "      <td>69577.0</td>\n",
       "      <td>105431.0</td>\n",
       "      <td>141042.0</td>\n",
       "      <td>29641.0</td>\n",
       "      <td>0.0</td>\n",
       "      <td>1.0</td>\n",
       "    </tr>\n",
       "    <tr>\n",
       "      <th>147</th>\n",
       "      <td>0.0</td>\n",
       "      <td>1.0</td>\n",
       "      <td>50.0</td>\n",
       "      <td>50.0</td>\n",
       "      <td>-24.0</td>\n",
       "      <td>821687.0</td>\n",
       "      <td>143836.0</td>\n",
       "      <td>33747.0</td>\n",
       "      <td>24584.0</td>\n",
       "      <td>40563.0</td>\n",
       "      <td>27901.0</td>\n",
       "      <td>20353.0</td>\n",
       "      <td>9265.0</td>\n",
       "      <td>0.0</td>\n",
       "      <td>1.0</td>\n",
       "    </tr>\n",
       "    <tr>\n",
       "      <th>148</th>\n",
       "      <td>0.0</td>\n",
       "      <td>1.0</td>\n",
       "      <td>40.0</td>\n",
       "      <td>51.0</td>\n",
       "      <td>-68.0</td>\n",
       "      <td>242816.0</td>\n",
       "      <td>146001.0</td>\n",
       "      <td>50443.0</td>\n",
       "      <td>2625.0</td>\n",
       "      <td>9570.0</td>\n",
       "      <td>15659.0</td>\n",
       "      <td>12204.0</td>\n",
       "      <td>11630.0</td>\n",
       "      <td>0.0</td>\n",
       "      <td>1.0</td>\n",
       "    </tr>\n",
       "    <tr>\n",
       "      <th>...</th>\n",
       "      <td>...</td>\n",
       "      <td>...</td>\n",
       "      <td>...</td>\n",
       "      <td>...</td>\n",
       "      <td>...</td>\n",
       "      <td>...</td>\n",
       "      <td>...</td>\n",
       "      <td>...</td>\n",
       "      <td>...</td>\n",
       "      <td>...</td>\n",
       "      <td>...</td>\n",
       "      <td>...</td>\n",
       "      <td>...</td>\n",
       "      <td>...</td>\n",
       "      <td>...</td>\n",
       "    </tr>\n",
       "    <tr>\n",
       "      <th>12684</th>\n",
       "      <td>9.0</td>\n",
       "      <td>8.0</td>\n",
       "      <td>54.0</td>\n",
       "      <td>56.0</td>\n",
       "      <td>36.0</td>\n",
       "      <td>145408.0</td>\n",
       "      <td>21303.0</td>\n",
       "      <td>10291.0</td>\n",
       "      <td>1972.0</td>\n",
       "      <td>1497.0</td>\n",
       "      <td>16489.0</td>\n",
       "      <td>15483.0</td>\n",
       "      <td>7688.0</td>\n",
       "      <td>1.0</td>\n",
       "      <td>1.0</td>\n",
       "    </tr>\n",
       "    <tr>\n",
       "      <th>12685</th>\n",
       "      <td>9.0</td>\n",
       "      <td>8.0</td>\n",
       "      <td>41.0</td>\n",
       "      <td>54.0</td>\n",
       "      <td>116.0</td>\n",
       "      <td>2130529.0</td>\n",
       "      <td>369714.0</td>\n",
       "      <td>256070.0</td>\n",
       "      <td>90430.0</td>\n",
       "      <td>88440.0</td>\n",
       "      <td>37014.0</td>\n",
       "      <td>50133.0</td>\n",
       "      <td>58149.0</td>\n",
       "      <td>1.0</td>\n",
       "      <td>1.0</td>\n",
       "    </tr>\n",
       "    <tr>\n",
       "      <th>12686</th>\n",
       "      <td>9.0</td>\n",
       "      <td>8.0</td>\n",
       "      <td>35.0</td>\n",
       "      <td>60.0</td>\n",
       "      <td>20.0</td>\n",
       "      <td>108557.0</td>\n",
       "      <td>20055.0</td>\n",
       "      <td>2915.0</td>\n",
       "      <td>2808.0</td>\n",
       "      <td>2045.0</td>\n",
       "      <td>3989.0</td>\n",
       "      <td>5545.0</td>\n",
       "      <td>2442.0</td>\n",
       "      <td>1.0</td>\n",
       "      <td>1.0</td>\n",
       "    </tr>\n",
       "    <tr>\n",
       "      <th>12687</th>\n",
       "      <td>9.0</td>\n",
       "      <td>8.0</td>\n",
       "      <td>44.0</td>\n",
       "      <td>54.0</td>\n",
       "      <td>117.0</td>\n",
       "      <td>1691185.0</td>\n",
       "      <td>276820.0</td>\n",
       "      <td>20304.0</td>\n",
       "      <td>11931.0</td>\n",
       "      <td>26238.0</td>\n",
       "      <td>74533.0</td>\n",
       "      <td>123884.0</td>\n",
       "      <td>16625.0</td>\n",
       "      <td>1.0</td>\n",
       "      <td>1.0</td>\n",
       "    </tr>\n",
       "    <tr>\n",
       "      <th>12688</th>\n",
       "      <td>9.0</td>\n",
       "      <td>8.0</td>\n",
       "      <td>35.0</td>\n",
       "      <td>43.0</td>\n",
       "      <td>82.0</td>\n",
       "      <td>39865.0</td>\n",
       "      <td>33117.0</td>\n",
       "      <td>2284.0</td>\n",
       "      <td>1119.0</td>\n",
       "      <td>1625.0</td>\n",
       "      <td>7108.0</td>\n",
       "      <td>8374.0</td>\n",
       "      <td>1191.0</td>\n",
       "      <td>1.0</td>\n",
       "      <td>1.0</td>\n",
       "    </tr>\n",
       "  </tbody>\n",
       "</table>\n",
       "<p>5929 rows × 15 columns</p>\n",
       "</div>"
      ],
      "text/plain": [
       "       SubjectID  VideoID  Attention  Mediation    Raw      Delta     Theta  \\\n",
       "144          0.0      1.0       47.0       23.0  -58.0   587813.0  276755.0   \n",
       "145          0.0      1.0       48.0       37.0   18.0   264810.0    7319.0   \n",
       "146          0.0      1.0       56.0       44.0   84.0  1817666.0  259465.0   \n",
       "147          0.0      1.0       50.0       50.0  -24.0   821687.0  143836.0   \n",
       "148          0.0      1.0       40.0       51.0  -68.0   242816.0  146001.0   \n",
       "...          ...      ...        ...        ...    ...        ...       ...   \n",
       "12684        9.0      8.0       54.0       56.0   36.0   145408.0   21303.0   \n",
       "12685        9.0      8.0       41.0       54.0  116.0  2130529.0  369714.0   \n",
       "12686        9.0      8.0       35.0       60.0   20.0   108557.0   20055.0   \n",
       "12687        9.0      8.0       44.0       54.0  117.0  1691185.0  276820.0   \n",
       "12688        9.0      8.0       35.0       43.0   82.0    39865.0   33117.0   \n",
       "\n",
       "         Alpha1   Alpha2    Beta1     Beta2    Gamma1   Gamma2  \\\n",
       "144     47356.0  13611.0  18425.0  112767.0   55090.0   6949.0   \n",
       "145      1347.0   1468.0   1754.0    2469.0    2389.0   1271.0   \n",
       "146     22213.0  71445.0  69577.0  105431.0  141042.0  29641.0   \n",
       "147     33747.0  24584.0  40563.0   27901.0   20353.0   9265.0   \n",
       "148     50443.0   2625.0   9570.0   15659.0   12204.0  11630.0   \n",
       "...         ...      ...      ...       ...       ...      ...   \n",
       "12684   10291.0   1972.0   1497.0   16489.0   15483.0   7688.0   \n",
       "12685  256070.0  90430.0  88440.0   37014.0   50133.0  58149.0   \n",
       "12686    2915.0   2808.0   2045.0    3989.0    5545.0   2442.0   \n",
       "12687   20304.0  11931.0  26238.0   74533.0  123884.0  16625.0   \n",
       "12688    2284.0   1119.0   1625.0    7108.0    8374.0   1191.0   \n",
       "\n",
       "       predefinedlabel  Confusion  \n",
       "144                0.0        1.0  \n",
       "145                0.0        1.0  \n",
       "146                0.0        1.0  \n",
       "147                0.0        1.0  \n",
       "148                0.0        1.0  \n",
       "...                ...        ...  \n",
       "12684              1.0        1.0  \n",
       "12685              1.0        1.0  \n",
       "12686              1.0        1.0  \n",
       "12687              1.0        1.0  \n",
       "12688              1.0        1.0  \n",
       "\n",
       "[5929 rows x 15 columns]"
      ]
     },
     "execution_count": 165,
     "metadata": {},
     "output_type": "execute_result"
    }
   ],
   "source": [
    "#confused\n",
    "confused_eeg_df = eeg_df[eeg_df[\"user-definedlabeln\"] == 1]\n",
    "confused_eeg_df.pd = pd.DataFrame(confused_eeg_df)\n",
    "confused_eeg_df.pd.rename(columns = {'user-definedlabeln':'Confusion'}, inplace = True)\n",
    "confused_eeg_df\n"
   ]
  },
  {
   "cell_type": "code",
   "execution_count": 166,
   "metadata": {},
   "outputs": [],
   "source": [
    "non_confused_reduced_df = non_eeg_df[[\"SubjectID\", \"Delta\"]]\n",
    "confused_reduced_df = confused_eeg_df[[\"SubjectID\", \"Delta\"]]"
   ]
  },
  {
   "cell_type": "code",
   "execution_count": 167,
   "metadata": {},
   "outputs": [
    {
     "data": {
      "text/plain": [
       "<AxesSubplot:title={'center':'Delta'}, xlabel='user-definedlabeln'>"
      ]
     },
     "execution_count": 167,
     "metadata": {},
     "output_type": "execute_result"
    },
    {
     "data": {
      "image/png": "[encoded data removed]",
      "text/plain": [
       "<Figure size 640x480 with 1 Axes>"
      ]
     },
     "metadata": {},
     "output_type": "display_data"
    }
   ],
   "source": [
    "eeg_df = eeg_df[[\"Delta\",\"user-definedlabeln\"]]\n",
    "eeg_fig = eeg_df.boxplot(\"Delta\", by='user-definedlabeln')\n",
    "eeg_fig"
   ]
  },
  {
   "cell_type": "code",
   "execution_count": 168,
   "metadata": {},
   "outputs": [
    {
     "data": {
      "text/plain": [
       "F_onewayResult(statistic=284.46630058019326, pvalue=4.5400590806703207e-63)"
      ]
     },
     "execution_count": 168,
     "metadata": {},
     "output_type": "execute_result"
    }
   ],
   "source": [
    "non_conf = eeg_df.loc[(eeg_df[\"user-definedlabeln\"]==0.0),\"Delta\"]\n",
    "confused = eeg_df.loc[(eeg_df[\"user-definedlabeln\"]==1.0),\"Delta\"]\n",
    "st.f_oneway(non_conf, confused)\n",
    "\n"
   ]
  },
  {
   "attachments": {},
   "cell_type": "markdown",
   "metadata": {},
   "source": [
    "# p-value of 4.5e-63 confirming significant difference"
   ]
  },
  {
   "cell_type": "code",
   "execution_count": null,
   "metadata": {},
   "outputs": [],
   "source": []
  },
  {
   "attachments": {},
   "cell_type": "markdown",
   "metadata": {},
   "source": [
    "The above Scatter plot shows that there is a substantial change between confused students vs non confused students from  a 10000 frequency to slighty above 50000 frequency "
   ]
  },
  {
   "attachments": {},
   "cell_type": "markdown",
   "metadata": {},
   "source": [
    "In the above bar garaph you can observe all of the bands with their confused frequency and non confused frequency.This analysis shows the delta band frequency is the most pronunced band in the confused student and also in the non confused student. You can see a 105.8% change in the delta band  "
   ]
  }
 ],
 "metadata": {
  "kernelspec": {
   "display_name": "PythonData",
   "language": "python",
   "name": "python3"
  },
  "language_info": {
   "codemirror_mode": {
    "name": "ipython",
    "version": 3
   },
   "file_extension": ".py",
   "mimetype": "text/x-python",
   "name": "python",
   "nbconvert_exporter": "python",
   "pygments_lexer": "ipython3",
   "version": "3.7.13"
  },
  "vscode": {
   "interpreter": {
    "hash": "04f126040f64e594b0285d81e53773a98b8990a4e06111241823fa1a58755463"
   }
  }
 },
 "nbformat": 4,
 "nbformat_minor": 4
}
